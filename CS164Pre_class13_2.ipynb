{
  "nbformat": 4,
  "nbformat_minor": 0,
  "metadata": {
    "colab": {
      "name": "CS164Pre-class13.2.ipynb",
      "provenance": []
    },
    "kernelspec": {
      "name": "python3",
      "display_name": "Python 3"
    }
  },
  "cells": [
    {
      "cell_type": "code",
      "metadata": {
        "id": "KFGVu4taqYqY",
        "colab_type": "code",
        "colab": {
          "base_uri": "https://localhost:8080/",
          "height": 34
        },
        "outputId": "abc32262-8330-43cd-a449-0fcb7257b395"
      },
      "source": [
        "import cvxpy as cvx\n",
        "import numpy as np\n",
        "\n",
        "# Input constraints\n",
        "max_inp = 0.5\n",
        "\n",
        "N = 100 # Steps\n",
        "\n",
        "# Define the target state and obstacles in half-space form\n",
        "targetLHS = np.array([[-1, 0],[0, -1],[1, 0],[0, 1]])\n",
        "targetRHS = np.array([-9.5,-9.5,10.5,10.5]).T\n",
        "\n",
        "# Matrix to extract the two position states\n",
        "posMatrix = np.matrix('1,0,0,0;0,1,0,0')\n",
        "\n",
        "# Define the obstacle\n",
        "obsLHS = targetLHS\n",
        "obsRHS = np.array([-3.5,-3.5,6.5,6.5])\n",
        "\n",
        "# Vertices of the obstacle\n",
        "obsVerts = np.asarray([[3.5,3.5,6.5,6.5,3.5],[3.5,6.5,6.5,3.5,3.5]])\n",
        "\n",
        "# Define the system matrices\n",
        "A = np.matrix('1,0,1,0;0,1,0,1;0,0,1,0;,0,0,0,1')\n",
        "B = np.matrix('0.5,0;0,0.5;1,0;0,1')\n",
        "\n",
        "# Define the decision variables\n",
        "X = cvx.Variable((4,N+1))\n",
        "U = cvx.Variable((2,N))\n",
        "b = cvx.Variable((4,N), boolean=True)\n",
        "\n",
        "# Big-M\n",
        "M = 200\n",
        "\n",
        "# Define dynamic constraints\n",
        "\n",
        "## Initial condition\n",
        "con = [X[:,0] == np.array([0,0,0,0])]  \n",
        "## Dynamics\n",
        "con.extend([X[:,i+1] == A*X[:,i] + B*U[:,i] for i in range(0,N)]) \n",
        "## Input constraints\n",
        "con.extend([cvx.norm(U[:,i],np.inf) <= max_inp for i in range(0,N)]) \n",
        "## obstacle avoidance\n",
        "con.extend([obsLHS * posMatrix * X[:,i] >= obsRHS - M*b[:,i] for i in range(0,N)]) \n",
        "con.extend([sum(b[:,i]) <= 3 for i in range(0,N) ]) \n",
        "## Terminal constraint \n",
        "con.extend([targetLHS * posMatrix * X[:,N] <= targetRHS])\n",
        "\n",
        "# Define the objective (minimize 1-norm of input)\n",
        "obj = cvx.Minimize(sum([cvx.norm(U[:,i],1) for i in range(0,N)]))\n",
        "\n",
        "# Solve the optimization problem\n",
        "prob = cvx.Problem(obj, con)\n",
        "prob.solve()"
      ],
      "execution_count": 1,
      "outputs": [
        {
          "output_type": "execute_result",
          "data": {
            "text/plain": [
              "0.259970815092764"
            ]
          },
          "metadata": {
            "tags": []
          },
          "execution_count": 1
        }
      ]
    },
    {
      "cell_type": "code",
      "metadata": {
        "id": "heMt6-_Oqc96",
        "colab_type": "code",
        "colab": {
          "base_uri": "https://localhost:8080/",
          "height": 811
        },
        "outputId": "66d0cabd-a6f1-4c52-9a4f-2ff3fde4e157"
      },
      "source": [
        "#### Plotting code ####\n",
        "## Your plots should look like the ones below if your code is correct.\n",
        "\n",
        "import matplotlib.pyplot as plt\n",
        "x_vals = X.value.T\n",
        "u_vals = U.value.T\n",
        "plt.figure()\n",
        "plt.plot(x_vals[:,0],x_vals[:,1],'k*-')\n",
        "plt.fill(obsVerts[0,:],obsVerts[1,:],'r')\n",
        "plt.xlabel('$x$')\n",
        "plt.ylabel('$y$')\n",
        "plt.axis('scaled')\n",
        "plt.show()\n",
        "\n",
        "plt.figure()\n",
        "plt.plot(np.arange(0,N+1).T,x_vals[:,2],'b-',label='$x$')\n",
        "plt.plot(np.arange(0,N+1).T,x_vals[:,3],'k-',label='$y$')\n",
        "plt.xlabel('$k$'); plt.ylabel('velocities')\n",
        "plt.legend()\n",
        "plt.show()\n",
        "\n",
        "plt.figure()\n",
        "plt.plot(np.arange(0,N).T,u_vals[:,0],'b-',label='$x$')\n",
        "plt.plot(np.arange(0,N).T,u_vals[:,1],'k-',label='$y$')\n",
        "plt.xlabel('$k$'); plt.ylabel('inputs')\n",
        "plt.legend()\n",
        "plt.show()"
      ],
      "execution_count": 5,
      "outputs": [
        {
          "output_type": "display_data",
          "data": {
            "image/png": "[encoded data removed]",
            "text/plain": [
              "<Figure size 432x288 with 1 Axes>"
            ]
          },
          "metadata": {
            "tags": []
          }
        },
        {
          "output_type": "display_data",
          "data": {
            "image/png": "[encoded data removed]",
            "text/plain": [
              "<Figure size 432x288 with 1 Axes>"
            ]
          },
          "metadata": {
            "tags": []
          }
        },
        {
          "output_type": "display_data",
          "data": {
            "image/png": "[encoded data removed]",
            "text/plain": [
              "<Figure size 432x288 with 1 Axes>"
            ]
          },
          "metadata": {
            "tags": []
          }
        }
      ]
    }
  ]
}