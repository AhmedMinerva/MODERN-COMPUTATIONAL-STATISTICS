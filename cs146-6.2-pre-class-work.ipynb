{
 "cells": [
  {
   "cell_type": "code",
   "execution_count": 3,
   "metadata": {},
   "outputs": [],
   "source": [
    "import numpy as np\n",
    "import scipy as sp\n",
    "import scipy.stats as sts\n",
    "import matplotlib.pyplot as plt\n",
    "from scipy.stats import dirichlet\n",
    "\n",
    "%matplotlib inline"
   ]
  },
  {
   "cell_type": "code",
   "execution_count": 4,
   "metadata": {},
   "outputs": [],
   "source": [
    "counts = [\n",
    "    [703, 1478, 1430, 1109],\n",
    "    [58, 1756, 1630, 1568],\n",
    "    [63, 1453, 2068, 2483],\n",
    "    [61, 749, 1183, 3315]]"
   ]
  },
  {
   "cell_type": "code",
   "execution_count": 6,
   "metadata": {},
   "outputs": [
    {
     "name": "stdout",
     "output_type": "stream",
     "text": [
      "[[2.60517896e-02 1.13573617e-03 6.98096318e-03 ... 6.35435137e-05\n",
      "  2.66552933e-02 1.67883122e-02]\n",
      " [9.87468321e-03 2.74644367e-02 5.52483972e-03 ... 4.45283551e-02\n",
      "  6.53297141e-03 3.17738228e-03]\n",
      " [2.69962432e-03 4.36118436e-03 3.94021248e-03 ... 2.31600000e-02\n",
      "  3.03120954e-02 3.61141356e-02]\n",
      " ...\n",
      " [1.82211956e-02 5.62201560e-03 4.75907723e-03 ... 5.90802442e-04\n",
      "  2.92905119e-03 7.31476463e-03]\n",
      " [2.08775117e-03 6.89581242e-04 2.80731946e-02 ... 4.72334370e-03\n",
      "  5.26510179e-03 2.30770445e-02]\n",
      " [2.21053151e-02 4.55985675e-03 5.86521340e-02 ... 5.94431936e-03\n",
      "  1.86351825e-02 5.63121256e-03]]\n"
     ]
    }
   ],
   "source": [
    "num_samples=1000\n",
    "priot_alpha=[1]*16\n",
    "post_alpha= priot_alpha * len(counts)\n",
    "samples = dirichlet.rvs(post_alpha,size=num_samples)\n",
    "print(samples)"
   ]
  },
  {
   "cell_type": "code",
   "execution_count": 9,
   "metadata": {},
   "outputs": [
    {
     "name": "stdout",
     "output_type": "stream",
     "text": [
      "[0.00102506 0.00419172]\n"
     ]
    }
   ],
   "source": [
    "s_unskilled=samples.transpose()[6]/(sum(samples.transpose()[4:7]))\n",
    "print(np.percentile(s_unskilled,q=[0.025,0.95]))"
   ]
  },
  {
   "cell_type": "code",
   "execution_count": 10,
   "metadata": {},
   "outputs": [
    {
     "name": "stdout",
     "output_type": "stream",
     "text": [
      "[6.01040264e-05 9.60738653e-04]\n"
     ]
    }
   ],
   "source": [
    "f_prof=samples.transpose()[3]/(samples.transpose()[3]+samples.transpose()[7]+samples.transpose()[11]+samples.transpose()[15])\n",
    "print(np.percentile(f_prof,q=[0.025,0.95]))"
   ]
  },
  {
   "cell_type": "code",
   "execution_count": null,
   "metadata": {},
   "outputs": [],
   "source": []
  }
 ],
 "metadata": {
  "kernelspec": {
   "display_name": "Python 3",
   "language": "python",
   "name": "python3"
  },
  "language_info": {
   "codemirror_mode": {
    "name": "ipython",
    "version": 3
   },
   "file_extension": ".py",
   "mimetype": "text/x-python",
   "name": "python",
   "nbconvert_exporter": "python",
   "pygments_lexer": "ipython3",
   "version": "3.7.0"
  }
 },
 "nbformat": 4,
 "nbformat_minor": 2
}
