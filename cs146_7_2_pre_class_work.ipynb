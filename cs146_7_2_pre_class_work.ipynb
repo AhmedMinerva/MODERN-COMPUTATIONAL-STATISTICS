{
  "nbformat": 4,
  "nbformat_minor": 0,
  "metadata": {
    "kernelspec": {
      "display_name": "Python 3",
      "language": "python",
      "name": "python3"
    },
    "language_info": {
      "codemirror_mode": {
        "name": "ipython",
        "version": 3
      },
      "file_extension": ".py",
      "mimetype": "text/x-python",
      "name": "python",
      "nbconvert_exporter": "python",
      "pygments_lexer": "ipython3",
      "version": "3.6.3"
    },
    "colab": {
      "name": "cs146-7.2-pre-class-work.ipynb",
      "provenance": []
    }
  },
  "cells": [
    {
      "cell_type": "markdown",
      "metadata": {
        "id": "FLrtQ4Pqul9_",
        "colab_type": "text"
      },
      "source": [
        "# Modeling elections"
      ]
    },
    {
      "cell_type": "code",
      "metadata": {
        "id": "-SLfd4qLul-F",
        "colab_type": "code",
        "colab": {}
      },
      "source": [
        "from scipy import stats\n",
        "import numpy as np\n",
        "import matplotlib.pyplot as plt\n",
        "import pystan"
      ],
      "execution_count": 0,
      "outputs": []
    },
    {
      "cell_type": "markdown",
      "metadata": {
        "id": "zp3_U4dQul-N",
        "colab_type": "text"
      },
      "source": [
        "## Data\n",
        "\n",
        "The `electoral_votes` variable is a dictionary containing the number of Electoral College votes for each state. For example\n",
        "```\n",
        "  >>> electoral_votes['Indiana']\n",
        "  11\n",
        "```\n",
        "Data from [Wikipedia: United_States_Electoral_College](https://en.wikipedia.org/wiki/United_States_Electoral_College)\n",
        "\n",
        "The `survey_results` variable is a dictionary mapping from states to an array of survey results for each candidate. Each row in a survey results array represents one survey and each column represents one candidate. There are 4 columns, representing Clinton, Trump, Johnson, and Stein in that order. In the example below, Clinton got 340 votes in the first survey, Trump got 258, Johnson got 27, and Stein got 13.\n",
        "```\n",
        "  >>> survey_results['Indiana']\n",
        "  array([[340, 258,  27,  13],\n",
        "         [240, 155,   5,   5],\n",
        "         [235, 155,  50,  20],\n",
        "         [308, 266,  49,  35],\n",
        "         [222, 161,  80,  30]])\n",
        "```\n",
        "Data from [Wikipedia: Statewide opinion polling for the United States presidential election, 2016](https://en.wikipedia.org/wiki/Statewide_opinion_polling_for_the_United_States_presidential_election,_2016)\n"
      ]
    },
    {
      "cell_type": "code",
      "metadata": {
        "id": "pinyJrMbul-P",
        "colab_type": "code",
        "colab": {
          "base_uri": "https://localhost:8080/",
          "height": 34
        },
        "outputId": "569f78f9-1b04-4d5f-81e8-a5cee4a720ba"
      },
      "source": [
        "electoral_votes = {\n",
        "    'Alabama': 9,\n",
        "    'Alaska': 3,\n",
        "    'Arizona': 11,\n",
        "    'Arkansas': 6,\n",
        "    'Colorado': 9,\n",
        "}\n",
        "\n",
        "survey_results = {\n",
        "    'Alabama': np.array([], dtype=int).reshape(0, 4),\n",
        "    'Alaska': np.array([400 * np.array([.47, .43, .07, .03]), 500 * np.array([.36, .37, .07, .03]), 500 * np.array([.34, .37, .10, .02]), 660 * np.array([.31, .36, .18, .06])], dtype=int),\n",
        "    'Arizona': np.array([392 * np.array([.45, .47, .05, .02]), 550 * np.array([.39, .47, .04, .03]), 719 * np.array([.40, .45, .09, .03]), 769 * np.array([.44, .49, .05, .01]), 2229 * np.array([.45, .44, .07, .01]), 700 * np.array([.43, .47, .02, .02]), 550 * np.array([.41, .45, .03, .01]), 994 * np.array([.42, .44, .04, .01]), 550 * np.array([.40, .42, .05, .02]), 2385 * np.array([.48, .46, .05, .01]), 401 * np.array([.45, .46, .04, .01]), 550 * np.array([.41, .41, .05, .02]), 1538 * np.array([.39, .44, .06, .02]), 713 * np.array([.43, .38, .06, .01]), 400 * np.array([.39, .37, .08, .03]), 600 * np.array([.44, .42, .09, .01]), 718 * np.array([.42, .42, .05, .01]), 484 * np.array([.41, .46, .09, .01]), 649 * np.array([.38, .40, .12, .03])], dtype=int),\n",
        "    'Arkansas': np.array([463 * np.array([.33, .56, .04, .02]), 831 * np.array([.34, .55, .03, .01]), 600 * np.array([.29, .57, .05, .03])], dtype=int),\n",
        "    'Colorado': np.array([1150 * np.array([.45, .44, .05, .04]), 500 * np.array([.44, .38, .07, .02]), 550 * np.array([.39, .39, .05, .04]), 750 * np.array([.44, .41, .08, .04]), 685 * np.array([.45, .37, .10, .03]), 400 * np.array([.49, .38, .07, .03]), 602 * np.array([.44, .33, .10, .03]), 694 * np.array([.46, .40, .06, .02]), 784 * np.array([.41, .42, .13, .03]), 991 * np.array([.40, .39, .07, .02]), 644 * np.array([.44, .42, .10, .02]), 540 * np.array([.41, .34, .12, .03]), 600 * np.array([.38, .42, .13, .02]), 704 * np.array([.48, .43, .04, .02]), 605 * np.array([.43, .38, .07, .02]), 997 * np.array([.42, .39, .07, .02])], dtype=int),\n",
        "}\n",
        "\n",
        "states = sorted(survey_results.keys())\n",
        "print('Modeling', len(states), 'states with', sum(electoral_votes[s] for s in states), 'electoral college votes')"
      ],
      "execution_count": 3,
      "outputs": [
        {
          "output_type": "stream",
          "text": [
            "Modeling 5 states with 38 electoral college votes\n"
          ],
          "name": "stdout"
        }
      ]
    },
    {
      "cell_type": "code",
      "metadata": {
        "id": "H7JgTKHRF0tU",
        "colab_type": "code",
        "colab": {
          "base_uri": "https://localhost:8080/",
          "height": 34
        },
        "outputId": "b913743a-4d6b-4768-bbde-332c31c39bda"
      },
      "source": [
        "len(survey_results['Alaska'])"
      ],
      "execution_count": 26,
      "outputs": [
        {
          "output_type": "execute_result",
          "data": {
            "text/plain": [
              "4"
            ]
          },
          "metadata": {
            "tags": []
          },
          "execution_count": 26
        }
      ]
    },
    {
      "cell_type": "markdown",
      "metadata": {
        "id": "LXUv2Swuul-Z",
        "colab_type": "text"
      },
      "source": [
        "## Generative model\n",
        "\n",
        "1. For each state we generate an $\\vec{\\alpha}$ vector, which defines a Dirichlet distribution over the proportion of votes that go to each of the 4 candidates whenever we do a survey — including the final survey, namely the election itself which we want to predict. The prior over each component of $\\vec{\\alpha}$ is taken as a Cauchy distribution with location 0 and scale 1. Since the components of $\\vec{\\alpha}$ are positive, we actually use the positive half-Cauchy distribution.\n",
        "\n",
        "2. For each survey in a state we generate a probability vector $\\vec{p_i} \\sim \\text{Dirichlet}(\\vec{\\alpha})$ for the probability that a voter selects each of the 4 candidates.\n",
        "\n",
        "3. For each survey, we then generate the number of votes going to each candidate as $\\vec{k_i} \\sim \\text{Multinomial}(\\vec{p_i})$.\n",
        "\n",
        "### Tasks\n",
        "\n",
        "* Use Stan to sample from the posterior distribution over $\\alpha$ and visualize your results. There are 10 states, so you will have 10 posteriors.\n",
        "* The posteriors over $\\alpha$ show a lot of variation between different states. Explain the results you get in terms of the model and the data."
      ]
    },
    {
      "cell_type": "code",
      "metadata": {
        "id": "ZXih9B-Ful-b",
        "colab_type": "code",
        "colab": {
          "base_uri": "https://localhost:8080/",
          "height": 34
        },
        "outputId": "bb1169df-cb97-4bb2-99e8-c06318f72c78"
      },
      "source": [
        "stan_code = '''\n",
        "data {\n",
        "    int<lower=0> S;   // number of surveys \n",
        "    int k[S, 4];\n",
        "}\n",
        "\n",
        "parameters {\n",
        "  simplex[4] p[S];\n",
        "  vector<lower=0>[4] alpha;\n",
        "}\n",
        "\n",
        "model {\n",
        "  alpha ~ cauchy(0, 1);\n",
        "\n",
        "  for (i in 1:S) {\n",
        "    p[i] ~ dirichlet(alpha);\n",
        "    k[i] ~ multinomial(p[i]);\n",
        "  }\n",
        "  \n",
        "\n",
        "}\n",
        "'''\n",
        "\n",
        "stan_model = pystan.StanModel(model_code=stan_code)"
      ],
      "execution_count": 33,
      "outputs": [
        {
          "output_type": "stream",
          "text": [
            "INFO:pystan:COMPILING THE C++ CODE FOR MODEL anon_model_9a9ad6b6cbb87420a4e14054e614b750 NOW.\n"
          ],
          "name": "stderr"
        }
      ]
    },
    {
      "cell_type": "code",
      "metadata": {
        "id": "GOma8SYJul-h",
        "colab_type": "code",
        "colab": {}
      },
      "source": [
        "for s in states:\n",
        "  USdata={\n",
        "    \n",
        "    \"k\":survey_results[s],\n",
        "    \"S\":len(survey_results[s])   \n",
        "}\n",
        "\n",
        "stan_results = stan_model.sampling(data=USdata)\n"
      ],
      "execution_count": 0,
      "outputs": []
    },
    {
      "cell_type": "code",
      "metadata": {
        "id": "uPvotP1BZZ5L",
        "colab_type": "code",
        "colab": {
          "base_uri": "https://localhost:8080/",
          "height": 1000
        },
        "outputId": "470b9816-46c8-41fb-eeb2-0bf2e6629988"
      },
      "source": [
        "print(stan_results)"
      ],
      "execution_count": 31,
      "outputs": [
        {
          "output_type": "stream",
          "text": [
            "Inference for Stan model: anon_model_c072423da06da7785c23c459da4766ce.\n",
            "4 chains, each with iter=2000; warmup=1000; thin=1; \n",
            "post-warmup draws per chain=1000, total post-warmup draws=4000.\n",
            "\n",
            "           mean se_mean     sd   2.5%    25%    50%    75%  97.5%  n_eff   Rhat\n",
            "alpha[1]  91.49    0.84  28.59  48.46   71.2  87.29 106.85 159.63   1147    1.0\n",
            "alpha[2]  83.36    0.78  26.12  44.27  64.84  79.55  97.37 144.88   1121    1.0\n",
            "alpha[3]  16.78    0.16   5.32   8.74  13.02  16.05  19.64  29.54   1143    1.0\n",
            "alpha[4]    5.8    0.05   1.82   3.02   4.53   5.52   6.81  10.18   1206    1.0\n",
            "p[1,1]     0.46  2.0e-4   0.01   0.43   0.45   0.46   0.47   0.49   4974    1.0\n",
            "p[2,1]     0.48  2.8e-4   0.02   0.44   0.46   0.48   0.49   0.52   5192    1.0\n",
            "p[3,1]     0.45  2.6e-4   0.02   0.41   0.44   0.45   0.47   0.49   5852    1.0\n",
            "p[4,1]     0.46  2.2e-4   0.02   0.42   0.44   0.46   0.47   0.49   5585    1.0\n",
            "p[5,1]     0.47  2.2e-4   0.02   0.44   0.46   0.47   0.48    0.5   6374    1.0\n",
            "p[6,1]     0.49  3.1e-4   0.02   0.45   0.48   0.49   0.51   0.53   4620    1.0\n",
            "p[7,1]     0.48  2.4e-4   0.02   0.45   0.47   0.48   0.49   0.52   5745    1.0\n",
            "p[8,1]     0.48  2.5e-4   0.02   0.45   0.47   0.48    0.5   0.52   5341    1.0\n",
            "p[9,1]     0.42  2.4e-4   0.02   0.39   0.41   0.42   0.44   0.46   4543    1.0\n",
            "p[10,1]    0.46  2.1e-4   0.02   0.43   0.45   0.46   0.47   0.49   5174    1.0\n",
            "p[11,1]    0.45  2.2e-4   0.02   0.42   0.44   0.45   0.46   0.49   5778    1.0\n",
            "p[12,1]    0.46  2.4e-4   0.02   0.42   0.45   0.46   0.47    0.5   6469    1.0\n",
            "p[13,1]    0.42  2.5e-4   0.02   0.38    0.4   0.42   0.43   0.45   5037    1.0\n",
            "p[14,1]    0.49  2.1e-4   0.02   0.46   0.48   0.49    0.5   0.52   6182    1.0\n",
            "p[15,1]    0.47  2.5e-4   0.02   0.44   0.46   0.47   0.49   0.51   5547    1.0\n",
            "p[16,1]    0.47  1.9e-4   0.02   0.44   0.46   0.47   0.48    0.5   6205    1.0\n",
            "p[1,2]     0.45  1.9e-4   0.01   0.42   0.44   0.45   0.45   0.47   5445    1.0\n",
            "p[2,2]     0.42  2.6e-4   0.02   0.38   0.41   0.42   0.43   0.46   5606    1.0\n",
            "p[3,2]     0.44  2.6e-4   0.02    0.4   0.43   0.44   0.45   0.48   5933    1.0\n",
            "p[4,2]     0.42  2.1e-4   0.02   0.39   0.41   0.42   0.43   0.45   6204    1.0\n",
            "p[5,2]      0.4  2.2e-4   0.02   0.36   0.39    0.4   0.41   0.43   5674    1.0\n",
            "p[6,2]      0.4  2.9e-4   0.02   0.36   0.39    0.4   0.42   0.44   4997    1.0\n",
            "p[7,2]     0.38  2.6e-4   0.02   0.35   0.37   0.38   0.39   0.42   4749    1.0\n",
            "p[8,2]     0.43  2.3e-4   0.02   0.39   0.41   0.43   0.44   0.46   5933    1.0\n",
            "p[9,2]     0.42  2.3e-4   0.02   0.39   0.41   0.42   0.44   0.46   5078    1.0\n",
            "p[10,2]    0.44  2.1e-4   0.02   0.41   0.43   0.44   0.45   0.47   5522    1.0\n",
            "p[11,2]    0.43  2.3e-4   0.02   0.39   0.42   0.43   0.44   0.46   5604    1.0\n",
            "p[12,2]    0.39  2.9e-4   0.02   0.35   0.38   0.39    0.4   0.43   4292    1.0\n",
            "p[13,2]    0.44  2.3e-4   0.02    0.4   0.43   0.44   0.45   0.47   5858    1.0\n",
            "p[14,2]    0.44  2.1e-4   0.02   0.41   0.43   0.44   0.45   0.47   6189    1.0\n",
            "p[15,2]    0.42  2.5e-4   0.02   0.39   0.41   0.42   0.43   0.46   5740    1.0\n",
            "p[16,2]    0.43  2.0e-4   0.02    0.4   0.42   0.43   0.44   0.46   6238    1.0\n",
            "p[1,3]     0.06  9.4e-5 6.4e-3   0.04   0.05   0.06   0.06   0.07   4698    1.0\n",
            "p[2,3]     0.08  1.4e-4   0.01   0.06   0.07   0.08   0.09    0.1   5353    1.0\n",
            "p[3,3]     0.06  1.5e-4   0.01   0.05   0.06   0.06   0.07   0.09   4614    1.0\n",
            "p[4,3]     0.08  1.3e-4 9.2e-3   0.07   0.08   0.08   0.09    0.1   5278    1.0\n",
            "p[5,3]      0.1  1.5e-4   0.01   0.08   0.09    0.1   0.11   0.12   4935    1.0\n",
            "p[6,3]     0.08  1.4e-4   0.01   0.06   0.07   0.08   0.08    0.1   5815    1.0\n",
            "p[7,3]      0.1  1.8e-4   0.01   0.08    0.1    0.1   0.11   0.13   4021    1.0\n",
            "p[8,3]     0.07  1.2e-4 8.8e-3   0.05   0.06   0.07   0.07   0.09   5166    1.0\n",
            "p[9,3]     0.12  1.6e-4   0.01    0.1   0.11   0.12   0.13   0.14   4600    1.0\n",
            "p[10,3]    0.08  1.0e-4 8.0e-3   0.07   0.07   0.08   0.09    0.1   6258    1.0\n",
            "p[11,3]     0.1  1.3e-4   0.01   0.08   0.09    0.1    0.1   0.12   6366    1.0\n",
            "p[12,3]    0.12  2.1e-4   0.01    0.1   0.11   0.12   0.13   0.15   3681    1.0\n",
            "p[13,3]    0.12  1.9e-4   0.01    0.1   0.12   0.12   0.13   0.15   4005    1.0\n",
            "p[14,3]    0.05  1.3e-4 7.7e-3   0.04   0.05   0.05   0.06   0.07   3660    1.0\n",
            "p[15,3]    0.08  1.4e-4   0.01   0.06   0.07   0.08   0.09    0.1   5242    1.0\n",
            "p[16,3]    0.08  1.1e-4 8.3e-3   0.06   0.07   0.08   0.08    0.1   5904    1.0\n",
            "p[1,4]     0.04  7.3e-5 5.4e-3   0.03   0.04   0.04   0.04   0.05   5400    1.0\n",
            "p[2,4]     0.02  8.8e-5 6.1e-3   0.01   0.02   0.02   0.03   0.04   4894    1.0\n",
            "p[3,4]     0.04  1.2e-4 7.9e-3   0.03   0.04   0.04   0.05   0.06   4568    1.0\n",
            "p[4,4]     0.04  9.0e-5 6.4e-3   0.03   0.03   0.04   0.04   0.05   4984    1.0\n",
            "p[5,4]     0.03  8.6e-5 6.1e-3   0.02   0.03   0.03   0.03   0.04   5046    1.0\n",
            "p[6,4]     0.03  1.1e-4 7.4e-3   0.02   0.03   0.03   0.04   0.05   4859    1.0\n",
            "p[7,4]     0.03  8.7e-5 6.5e-3   0.02   0.03   0.03   0.04   0.05   5652    1.0\n",
            "p[8,4]     0.02  6.9e-5 5.2e-3   0.01   0.02   0.02   0.03   0.03   5678    1.0\n",
            "p[9,4]     0.03  7.8e-5 5.6e-3   0.02   0.03   0.03   0.03   0.04   5170    1.0\n",
            "p[10,4]    0.02  6.6e-5 4.6e-3   0.01   0.02   0.02   0.03   0.03   4984    1.0\n",
            "p[11,4]    0.02  6.7e-5 5.1e-3   0.01   0.02   0.02   0.02   0.03   5802    1.0\n",
            "p[12,4]    0.03  9.4e-5 6.8e-3   0.02   0.03   0.03   0.04   0.05   5287    1.0\n",
            "p[13,4]    0.02  7.7e-5 5.6e-3   0.01   0.02   0.02   0.03   0.04   5193    1.0\n",
            "p[14,4]    0.02  6.7e-5 5.1e-3   0.01   0.02   0.02   0.03   0.03   5678    1.0\n",
            "p[15,4]    0.02  7.8e-5 5.8e-3   0.01   0.02   0.02   0.03   0.04   5413    1.0\n",
            "p[16,4]    0.02  5.9e-5 4.5e-3   0.01   0.02   0.02   0.03   0.03   5840    1.0\n",
            "lp__     -1.1e4    0.15    5.5 -1.1e4 -1.1e4 -1.1e4 -1.1e4 -1.1e4   1406    1.0\n",
            "\n",
            "Samples were drawn using NUTS at Thu Oct 24 15:31:52 2019.\n",
            "For each parameter, n_eff is a crude measure of effective sample size,\n",
            "and Rhat is the potential scale reduction factor on split chains (at \n",
            "convergence, Rhat=1).\n"
          ],
          "name": "stdout"
        }
      ]
    },
    {
      "cell_type": "markdown",
      "metadata": {
        "id": "37ruVCmYul-m",
        "colab_type": "text"
      },
      "source": [
        "## Simulation time\n",
        "\n",
        "Use the posterior samples to predict the outcome of the presidential elections.\n",
        "\n",
        "* Predict the probability that each candidate will win each state.\n",
        "   * Use the posterior $\\alpha$ samples to generate posterior predictive samples for $p$ — the proportion of votes each candidate would get in each state in an election.\n",
        "   * Use these $p$ samples to estimate the probability that each candidate will win each state.\n",
        "* Predict the probability that each candidate will win the presidential election.\n",
        "   * Use the posterior predictive probability that each candidate will win each state to generate samples over the total number Electoral College votes each candidate would get in an election.\n",
        "   * Use the total number of votes to generate samples over who would win the election."
      ]
    },
    {
      "cell_type": "code",
      "metadata": {
        "scrolled": true,
        "id": "ZVMmOQN3ul-n",
        "colab_type": "code",
        "colab": {}
      },
      "source": [
        ""
      ],
      "execution_count": 0,
      "outputs": []
    }
  ]
}